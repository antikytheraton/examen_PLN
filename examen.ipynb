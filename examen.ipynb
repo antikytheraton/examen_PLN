{
 "cells": [
  {
   "cell_type": "code",
   "execution_count": 1,
   "metadata": {
    "collapsed": true
   },
   "outputs": [],
   "source": [
    "A=[\\\n",
    "  \"La mineria es una actividad economica del sector primario representada por la explotacion o extraccion de los minerales que se han acumulado en el suelo y\",\n",
    "   \"La mineria es una de las actividades mas antiguas desarrollada por el hombre. Al dominas el fuego, el hombre desarrollo tecnicas que le permitieron procesar y\",\n",
    "   \"La mineria es una actividad con la que identificamos los lugares donde hay minerales para sacarlos de alli y procesarlos para construir casi todo lo que vemos\",\n",
    "   \"La politica es una actividad orientada en forma ideologica a la toma de decisiones de un grupo para alcanzar ciertos objetivos. Tambien puede definirse como\",\n",
    "   \"Ahora bien, si el analisis de textos es una actividad fundamental para el estudioso de la literatura, las teorias literarias suelen representar un discurso\",\n",
    "   \"La enseñanza es una actividad realizada conjuntamente mediante la interacción de po tanto la enseñanza, como objeto de estudio e investigación de la Didáctica, es una actividad direccionada por gestores, ejecutada por docentes a la ...\"\n",
    "   \"Muy extendida por todo el mundo la pesca es una actividad primaria que se desarrollo en su mayor parte en aguas marinas, obteniéndise de \",\n",
    "   \"La agricultura es una actividad primaria es la actividad dedicada al crecimiento de los alimentos y el cuidado del ganado\",\n",
    "  ]"
   ]
  },
  {
   "cell_type": "code",
   "execution_count": 2,
   "metadata": {
    "collapsed": true
   },
   "outputs": [],
   "source": [
    "B=[\\\n",
    "  \"Es imprescindible para entender lo que es la mineria de textos o text mining, tener claso antes lo que es el data mining: este ultimo concepto surgio hace ya\",\n",
    "   \"La mineria de textos es el proceso para descubrir conocimiento 7 4 INTRODUCCioN A LA MINERIA DE TEXTOS (TEXT MINING) ¿Que es la\",\n",
    "   'Taller practico \"Analisis y procesamiento de datos para descubrir conocimiento\" como segundo paso a la capacitación de una organización',\n",
    "   \"Curso de Descubrir conocimiento en Base de Datos\",\n",
    "   \"Este proceso de descubrir conocimiento a partir de los datos se puede definir como el conjunto de tecnicas y herramientas aplicadas al proceso no trivial de ...\"\n",
    "   \"patrones y relaciones en vastas cantidades de datos. Los DSS que analizan bases de datos grandes tambien se pueden utilizar para descubrir conocimiento\",\n",
    "   \"Discover knowledge in databsases: Mining of data and applications; Descubrir conocimiento en bases de datos: Minería de datos y aplicaciones\" \n",
    "  ]"
   ]
  },
  {
   "cell_type": "markdown",
   "metadata": {},
   "source": [
    "#### Respuesta 5 se crea modelo de bayes ingenuo\n"
   ]
  },
  {
   "cell_type": "code",
   "execution_count": 3,
   "metadata": {},
   "outputs": [],
   "source": [
    "#limpieza de datos\n",
    "import re\n",
    "from collections import Counter\n",
    "A=[document.lower() for document in A]\n",
    "A=[re.sub(\"[\\!\\.\\-\\,\\?(\\n)\\:\\¿\\¡\\(\\)\\[\\]]*\",\"\", document) for document in A]\n",
    "B=[document.lower() for document in B]\n",
    "B=[re.sub(\"[\\!\\.\\-\\,\\?(\\n)\\:\\¿\\¡\\(\\)\\[\\]]*\",\"\", document) for document in B]\n",
    "tokens=A+B\n",
    "tokens=((\" \".join(tokens)).split(\" \"))\n",
    "tipos=list(set(tokens))"
   ]
  },
  {
   "cell_type": "code",
   "execution_count": 4,
   "metadata": {},
   "outputs": [],
   "source": [
    "Acounter= Counter(\" \".join(A).split(\" \"))\n",
    "Bcounter= Counter(\" \".join(B).split(\" \"))"
   ]
  },
  {
   "cell_type": "code",
   "execution_count": 5,
   "metadata": {},
   "outputs": [],
   "source": [
    "def lapSmoothProb(word,count,tokensClas,tokensGeneral):\n",
    "    return (count[word]+1)/(tokensClas+tokensGeneral)"
   ]
  },
  {
   "cell_type": "code",
   "execution_count": 25,
   "metadata": {
    "scrolled": true
   },
   "outputs": [],
   "source": [
    "new_doc=\"Los conceptos basicos que se utilizan en el proceso de analisis de texto incluyen anotadores resultados de analisis estructura de caracteristicas tipo sistema\""
   ]
  },
  {
   "cell_type": "code",
   "execution_count": 26,
   "metadata": {},
   "outputs": [],
   "source": [
    "proba=(len(A)+1)/(len(A)+len(B)+2)\n",
    "probb=(len(A)+1)/(len(A)+len(B)+2)"
   ]
  },
  {
   "cell_type": "code",
   "execution_count": 27,
   "metadata": {},
   "outputs": [],
   "source": [
    "condsA=[lapSmoothProb(word,Acounter,len((\" \".join(A)).split(\" \")),len(tipos)) for word in new_doc.split(\" \")]\n",
    "condsB=[lapSmoothProb(word,Bcounter,len((\" \".join(B)).split(\" \")),len(tipos)) for word in new_doc.split(\" \")]"
   ]
  },
  {
   "cell_type": "code",
   "execution_count": 28,
   "metadata": {},
   "outputs": [],
   "source": [
    "condsA=condsA+[proba]\n",
    "condsB=condsB+[probb]"
   ]
  },
  {
   "cell_type": "code",
   "execution_count": 29,
   "metadata": {},
   "outputs": [],
   "source": [
    "import numpy as np\n",
    "probaa=np.exp(np.sum(np.log(condsA)))/(np.exp(np.sum(np.log(condsA)))+np.exp(np.sum(np.log(condsB))))\n",
    "probab=np.exp(np.sum(np.log(condsB)))/(np.exp(np.sum(np.log(condsA)))+np.exp(np.sum(np.log(condsB))))"
   ]
  },
  {
   "cell_type": "code",
   "execution_count": 30,
   "metadata": {},
   "outputs": [
    {
     "name": "stdout",
     "output_type": "stream",
     "text": [
      "0.0280817830688\n",
      "0.971918216931\n"
     ]
    }
   ],
   "source": [
    "print(probaa)\n",
    "print(probab)"
   ]
  },
  {
   "cell_type": "markdown",
   "metadata": {},
   "source": [
    "Como vemos la clase es B, y se nota por mucho la diferencia\n",
    "\n",
    "### Respuesta 1"
   ]
  },
  {
   "cell_type": "code",
   "execution_count": null,
   "metadata": {
    "collapsed": true
   },
   "outputs": [],
   "source": []
  }
 ],
 "metadata": {
  "kernelspec": {
   "display_name": "Python 3",
   "language": "python",
   "name": "python3"
  },
  "language_info": {
   "codemirror_mode": {
    "name": "ipython",
    "version": 3
   },
   "file_extension": ".py",
   "mimetype": "text/x-python",
   "name": "python",
   "nbconvert_exporter": "python",
   "pygments_lexer": "ipython3",
   "version": "3.5.2"
  }
 },
 "nbformat": 4,
 "nbformat_minor": 2
}
